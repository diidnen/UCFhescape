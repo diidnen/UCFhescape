{
 "cells": [
  {
   "cell_type": "markdown",
   "metadata": {},
   "source": [
    "## checking uce embeddings"
   ]
  },
  {
   "cell_type": "code",
   "execution_count": 1,
   "metadata": {},
   "outputs": [],
   "source": [
    "import warnings\n",
    "from pathlib import Path\n",
    "\n",
    "from uce_utils import AnndataProcessor\n",
    "\n",
    "warnings.filterwarnings(\"ignore\")"
   ]
  },
  {
   "cell_type": "code",
   "execution_count": null,
   "metadata": {},
   "outputs": [
    {
     "name": "stdout",
     "output_type": "stream",
     "text": [
      "Proccessing htan_pdac_all_raw\n",
      "this is a nice check to make sure it's counts 95275.0\n",
      "htan_pdac_all_raw (57363, 16639)\n",
      "Wrote Shapes Dict\n",
      "PE Idx, Chrom and Starts files already created\n"
     ]
    },
    {
     "name": "stderr",
     "output_type": "stream",
     "text": [
      "  0%|          | 1/449 [02:21<17:33:56, 141.15s/it]"
     ]
    },
    {
     "name": "stdout",
     "output_type": "stream",
     "text": [
      "torch.Size([1073, 128, 5120])\n"
     ]
    },
    {
     "name": "stderr",
     "output_type": "stream",
     "text": [
      "  0%|          | 2/449 [02:23<7:23:01, 59.47s/it]  "
     ]
    },
    {
     "name": "stdout",
     "output_type": "stream",
     "text": [
      "torch.Size([1073, 128, 5120])\n"
     ]
    },
    {
     "name": "stderr",
     "output_type": "stream",
     "text": [
      "  1%|          | 3/449 [02:25<4:07:25, 33.29s/it]"
     ]
    },
    {
     "name": "stdout",
     "output_type": "stream",
     "text": [
      "torch.Size([1073, 128, 5120])\n"
     ]
    },
    {
     "name": "stderr",
     "output_type": "stream",
     "text": [
      "  1%|          | 4/449 [02:27<2:35:44, 21.00s/it]"
     ]
    },
    {
     "name": "stdout",
     "output_type": "stream",
     "text": [
      "torch.Size([1073, 128, 5120])\n"
     ]
    },
    {
     "name": "stderr",
     "output_type": "stream",
     "text": [
      "  1%|          | 5/449 [02:29<1:42:47, 13.89s/it]"
     ]
    },
    {
     "name": "stdout",
     "output_type": "stream",
     "text": [
      "torch.Size([1073, 128, 5120])\n"
     ]
    },
    {
     "name": "stderr",
     "output_type": "stream",
     "text": [
      "  1%|▏         | 6/449 [02:31<1:13:14,  9.92s/it]"
     ]
    },
    {
     "name": "stdout",
     "output_type": "stream",
     "text": [
      "torch.Size([1073, 128, 5120])\n"
     ]
    },
    {
     "name": "stderr",
     "output_type": "stream",
     "text": [
      "  2%|▏         | 7/449 [02:32<51:58,  7.06s/it]  "
     ]
    },
    {
     "name": "stdout",
     "output_type": "stream",
     "text": [
      "torch.Size([1073, 128, 5120])\n"
     ]
    },
    {
     "name": "stderr",
     "output_type": "stream",
     "text": [
      "  2%|▏         | 8/449 [02:33<38:04,  5.18s/it]"
     ]
    },
    {
     "name": "stdout",
     "output_type": "stream",
     "text": [
      "torch.Size([1073, 128, 5120])\n"
     ]
    },
    {
     "name": "stderr",
     "output_type": "stream",
     "text": [
      "  2%|▏         | 9/449 [02:36<31:59,  4.36s/it]"
     ]
    },
    {
     "name": "stdout",
     "output_type": "stream",
     "text": [
      "torch.Size([1073, 128, 5120])\n"
     ]
    },
    {
     "name": "stderr",
     "output_type": "stream",
     "text": [
      "  2%|▏         | 9/449 [02:37<2:08:26, 17.51s/it]"
     ]
    },
    {
     "name": "stdout",
     "output_type": "stream",
     "text": [
      "torch.Size([1073, 128, 5120])\n"
     ]
    },
    {
     "name": "stderr",
     "output_type": "stream",
     "text": [
      "\n"
     ]
    }
   ],
   "source": [
    "class Arguments:\n",
    "    # defaults\n",
    "    root_dir = Path(\"/Users/rushin.gindra/Documents/Research/SpatialCLIP/code\")\n",
    "    species = \"human\"\n",
    "    pad_length = 1536\n",
    "    pad_token_idx = 0\n",
    "    chrom_token_left_idx = 1\n",
    "    chrom_token_right_idx = 2\n",
    "    cls_token_idx = 3\n",
    "    CHROM_TOKEN_OFFSET = 143574\n",
    "    sample_size = 1024\n",
    "    spec_chrom_csv_path = str(root_dir / \"notebooks/gexp_models/model_files/species_chrom.csv\")\n",
    "    token_file = str(root_dir / \"notebooks/gexp_models/model_files/all_tokens.torch\")\n",
    "    protein_embeddings_dir = str(root_dir / \"notebooks/gexp_models/model_files/protein_embeddings/\")\n",
    "    offset_pkl_path = str(root_dir / \"notebooks/gexp_models/model_files/species_offsets.pkl\")\n",
    "    model_loc = str(root_dir / \"notebooks/gexp_models/model_files/4layer_model.torch\")\n",
    "\n",
    "    adata_path = (\n",
    "        str(root_dir) + \"/\" + \"notebooks/data/htan_pdac_all_raw.h5ad\"\n",
    "    )  # your anndata file to compute all variables\n",
    "    dir = str(root_dir) + \"/\" + \"notebooks/data/htan_pdac_raw_4layer/\"  # directory to save intermediate files\n",
    "\n",
    "    batch_size = 128\n",
    "    filter = False\n",
    "    skip = False\n",
    "\n",
    "\n",
    "args = Arguments()\n",
    "\n",
    "processor = AnndataProcessor(args)\n",
    "processor.preprocess_anndata()\n",
    "processor.generate_idxs()\n",
    "processor.run_evaluation()"
   ]
  }
 ],
 "metadata": {
  "kernelspec": {
   "display_name": "spatialclip",
   "language": "python",
   "name": "python3"
  },
  "language_info": {
   "codemirror_mode": {
    "name": "ipython",
    "version": 3
   },
   "file_extension": ".py",
   "mimetype": "text/x-python",
   "name": "python",
   "nbconvert_exporter": "python",
   "pygments_lexer": "ipython3",
   "version": "3.10.16"
  }
 },
 "nbformat": 4,
 "nbformat_minor": 2
}
